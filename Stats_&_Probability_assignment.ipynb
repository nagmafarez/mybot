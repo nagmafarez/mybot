{
  "nbformat": 4,
  "nbformat_minor": 0,
  "metadata": {
    "colab": {
      "provenance": [],
      "authorship_tag": "ABX9TyP6DJl85hlv2kSjDAPNYa38",
      "include_colab_link": true
    },
    "kernelspec": {
      "name": "python3",
      "display_name": "Python 3"
    },
    "language_info": {
      "name": "python"
    }
  },
  "cells": [
    {
      "cell_type": "markdown",
      "metadata": {
        "id": "view-in-github",
        "colab_type": "text"
      },
      "source": [
        "<a href=\"https://colab.research.google.com/github/nagmafarez/mybot/blob/main/Stats_%26_Probability_assignment.ipynb\" target=\"_parent\"><img src=\"https://colab.research.google.com/assets/colab-badge.svg\" alt=\"Open In Colab\"/></a>"
      ]
    },
    {
      "cell_type": "code",
      "execution_count": null,
      "metadata": {
        "id": "ff_mU8n78x9k"
      },
      "outputs": [],
      "source": [
        "#import the libraries\n",
        "import pandas as pd\n",
        "import scipy\n",
        "import numpy as np\n",
        "from scipy import stats\n",
        "import statistics"
      ]
    },
    {
      "cell_type": "markdown",
      "source": [
        "Question 1 ::\n",
        "Calculate the mean, median, and standard deviation for the following dataset: [10, 15, 20, 25,\n",
        " 30]"
      ],
      "metadata": {
        "id": "z61oTvN586TO"
      }
    },
    {
      "cell_type": "code",
      "source": [
        "# Given Dataset\n",
        "data = [10,15,20,25,30]"
      ],
      "metadata": {
        "id": "VgpJoKqZ95Ds"
      },
      "execution_count": null,
      "outputs": []
    },
    {
      "cell_type": "code",
      "source": [
        "# Calculate mean, median, standard deviation\n",
        "mean_value = statistics.mean(data)\n",
        "median_value = statistics.median(data)\n",
        "std_dev_value = statistics.stdev(data)"
      ],
      "metadata": {
        "id": "ecKZET1D99hG"
      },
      "execution_count": null,
      "outputs": []
    },
    {
      "cell_type": "code",
      "source": [
        "# Print the results\n",
        "\n",
        "print(f\"Data: {data}\")\n",
        "print(f\"Mean: {mean_value}\")\n",
        "print(f\"Median: {median_value}\")\n",
        "print(f\"Standard Deviation: {std_dev_value}\")"
      ],
      "metadata": {
        "colab": {
          "base_uri": "https://localhost:8080/"
        },
        "id": "Id-Zcpkt99dN",
        "outputId": "39783aa1-cbae-471f-ca57-e61a2e73f37f"
      },
      "execution_count": null,
      "outputs": [
        {
          "output_type": "stream",
          "name": "stdout",
          "text": [
            "Data: [10, 15, 20, 25, 30]\n",
            "Mean: 20\n",
            "Median: 20\n",
            "Standard Deviation: 7.905694150420948\n"
          ]
        }
      ]
    },
    {
      "cell_type": "code",
      "source": [],
      "metadata": {
        "id": "Rg47vjxVu502"
      },
      "execution_count": null,
      "outputs": []
    },
    {
      "cell_type": "markdown",
      "source": [
        "Question 2 :: A researcher wants to estimate the average height of students in a university. She samples\n",
        " 50 students and finds the mean height to be 65 inches with a standard deviation of 3 inches.\n",
        " Construct a 95% confidence interval for the population mean height."
      ],
      "metadata": {
        "id": "0N1rne_4_eY-"
      }
    },
    {
      "cell_type": "code",
      "source": [
        "# Given Data\n",
        "n = 50\n",
        "sample_mean = 65\n",
        "sample_std_dev = 3\n",
        "alpha = 0.05  # for a 95% confidence level"
      ],
      "metadata": {
        "id": "p1FNeYJI99Oz"
      },
      "execution_count": null,
      "outputs": []
    },
    {
      "cell_type": "code",
      "source": [
        "# Degrees of Freedom\n",
        "df = n - 1"
      ],
      "metadata": {
        "id": "FWBNVzksGgAB"
      },
      "execution_count": null,
      "outputs": []
    },
    {
      "cell_type": "code",
      "source": [
        "df"
      ],
      "metadata": {
        "colab": {
          "base_uri": "https://localhost:8080/"
        },
        "id": "--1AQ9cWI8hX",
        "outputId": "84631d4d-79c0-4cd5-abca-b0c017118454"
      },
      "execution_count": null,
      "outputs": [
        {
          "output_type": "execute_result",
          "data": {
            "text/plain": [
              "49"
            ]
          },
          "metadata": {},
          "execution_count": 9
        }
      ]
    },
    {
      "cell_type": "code",
      "source": [
        "# t-value for 95% confidence interval using t-distribution\n",
        "t_value = stats.t.ppf(1 - alpha, df)\n"
      ],
      "metadata": {
        "id": "P870czBPGf7g"
      },
      "execution_count": null,
      "outputs": []
    },
    {
      "cell_type": "code",
      "source": [
        "t_value"
      ],
      "metadata": {
        "colab": {
          "base_uri": "https://localhost:8080/"
        },
        "id": "F5m3JsWBK3nU",
        "outputId": "f138ecbe-7904-43f3-effe-438621d462f2"
      },
      "execution_count": null,
      "outputs": [
        {
          "output_type": "execute_result",
          "data": {
            "text/plain": [
              "1.6765508926168537"
            ]
          },
          "metadata": {},
          "execution_count": 11
        }
      ]
    },
    {
      "cell_type": "code",
      "source": [
        "# Calculate the margin of error\n",
        "margin_of_error = t_value * (sample_std_dev / np.sqrt(n))"
      ],
      "metadata": {
        "id": "LUe8fHB9Ipy_"
      },
      "execution_count": null,
      "outputs": []
    },
    {
      "cell_type": "code",
      "source": [
        "margin_of_error"
      ],
      "metadata": {
        "colab": {
          "base_uri": "https://localhost:8080/"
        },
        "id": "6LQqLKJuK6cs",
        "outputId": "4c0ea82e-4be9-4160-eb8d-ac468ae25416"
      },
      "execution_count": null,
      "outputs": [
        {
          "output_type": "execute_result",
          "data": {
            "text/plain": [
              "0.711300303104242"
            ]
          },
          "metadata": {},
          "execution_count": 13
        }
      ]
    },
    {
      "cell_type": "code",
      "source": [
        "# Calculate the confidence interval\n",
        "confidence_interval = (sample_mean - margin_of_error, sample_mean + margin_of_error)"
      ],
      "metadata": {
        "id": "cbWvmspJIpj3"
      },
      "execution_count": null,
      "outputs": []
    },
    {
      "cell_type": "code",
      "source": [
        "confidence_interval"
      ],
      "metadata": {
        "colab": {
          "base_uri": "https://localhost:8080/"
        },
        "id": "aoEtqt1TK8lz",
        "outputId": "0b3017a2-dfb1-4d7e-c6e4-a4c36356a132"
      },
      "execution_count": null,
      "outputs": [
        {
          "output_type": "execute_result",
          "data": {
            "text/plain": [
              "(64.28869969689576, 65.71130030310424)"
            ]
          },
          "metadata": {},
          "execution_count": 15
        }
      ]
    },
    {
      "cell_type": "code",
      "source": [
        "# Print the results\n",
        "print(f\"Sample Mean: {sample_mean}\")\n",
        "print(f\"Sample Standard Deviation: {sample_std_dev}\")\n",
        "print(f\"Sample Size: {n}\")\n",
        "print(f\"Degrees of Freedom: {df}\")\n",
        "print(f\"t-Critical Value (95% CI): {t_value:.4f}\")\n",
        "print(f\"Margin of Error: {margin_of_error:.4f}\")\n",
        "print(f\"\\n95% Confidence Interval for Population Mean Height: {confidence_interval}\")"
      ],
      "metadata": {
        "colab": {
          "base_uri": "https://localhost:8080/"
        },
        "id": "9eq0w3iuJGvj",
        "outputId": "c84a8a0a-0a91-455a-b5b4-e95551a6e60e"
      },
      "execution_count": null,
      "outputs": [
        {
          "output_type": "stream",
          "name": "stdout",
          "text": [
            "Sample Mean: 65\n",
            "Sample Standard Deviation: 3\n",
            "Sample Size: 50\n",
            "Degrees of Freedom: 49\n",
            "t-Critical Value (95% CI): 1.6766\n",
            "Margin of Error: 0.7113\n",
            "\n",
            "95% Confidence Interval for Population Mean Height: (64.28869969689576, 65.71130030310424)\n"
          ]
        }
      ]
    },
    {
      "cell_type": "code",
      "source": [],
      "metadata": {
        "id": "RyJ9QeYqusrM"
      },
      "execution_count": null,
      "outputs": []
    },
    {
      "cell_type": "markdown",
      "source": [
        "Question 3 ::A manufacturer claims that the average lifespan of its light bulbs is 1000 hours. A random\n",
        " sample of 50 light bulbs has a mean lifespan of 980 hours with a standard deviation of 50 hours.\n",
        " Test the manufacturer's claim at a significance level of 0.05 using a right-tailed hypothesis test."
      ],
      "metadata": {
        "id": "2rQZg_aaKbI_"
      }
    },
    {
      "cell_type": "markdown",
      "source": [
        "Defining Null & Alternative hypothesis:::\n",
        "\n",
        "*   Manufacturer claims 1000 hours\n",
        "*   Null hypothesis is mean > 1000\n",
        "*   Alternative hypothesis is mean < 1000\n",
        "\n"
      ],
      "metadata": {
        "id": "eXcZNPx5ZzyI"
      }
    },
    {
      "cell_type": "code",
      "source": [
        "# Given Data\n",
        "n = 50\n",
        "sample_mean = 980\n",
        "sample_std_dev = 50\n",
        "population_mean = 1000  # Manufacturer's claim\n",
        "alpha = 0.05  # Significance level"
      ],
      "metadata": {
        "id": "D3I9HaSJSIcp"
      },
      "execution_count": null,
      "outputs": []
    },
    {
      "cell_type": "code",
      "source": [
        "# Calculate the t-stat\n",
        "t_stat = (sample_mean - population_mean) / (sample_std_dev / np.sqrt(n))"
      ],
      "metadata": {
        "id": "m-7tZ8voaSNE"
      },
      "execution_count": null,
      "outputs": []
    },
    {
      "cell_type": "code",
      "source": [
        "t_stat"
      ],
      "metadata": {
        "colab": {
          "base_uri": "https://localhost:8080/"
        },
        "id": "82w5UhqpaeyY",
        "outputId": "c2b3c8e5-ede9-4e92-f6f4-51fd05d635dc"
      },
      "execution_count": null,
      "outputs": [
        {
          "output_type": "execute_result",
          "data": {
            "text/plain": [
              "-2.8284271247461903"
            ]
          },
          "metadata": {},
          "execution_count": 19
        }
      ]
    },
    {
      "cell_type": "code",
      "source": [
        "# Degrees of Freedom\n",
        "df = n - 1"
      ],
      "metadata": {
        "id": "PkI4Hu46auao"
      },
      "execution_count": null,
      "outputs": []
    },
    {
      "cell_type": "code",
      "source": [
        "df"
      ],
      "metadata": {
        "colab": {
          "base_uri": "https://localhost:8080/"
        },
        "id": "1RcLyVzVbIb4",
        "outputId": "97c8e509-2b5c-47e9-9465-cff99916b427"
      },
      "execution_count": null,
      "outputs": [
        {
          "output_type": "execute_result",
          "data": {
            "text/plain": [
              "49"
            ]
          },
          "metadata": {},
          "execution_count": 21
        }
      ]
    },
    {
      "cell_type": "code",
      "source": [
        "# Calculate the p value (right-tailed test)\n",
        "p_value = stats.t.cdf(t_stat,df)"
      ],
      "metadata": {
        "id": "UHYvaOrNbJwK"
      },
      "execution_count": null,
      "outputs": []
    },
    {
      "cell_type": "code",
      "source": [
        "p_value"
      ],
      "metadata": {
        "colab": {
          "base_uri": "https://localhost:8080/"
        },
        "id": "jMngaka2cSZ9",
        "outputId": "8dded242-671b-4781-c86d-7a0d62f51082"
      },
      "execution_count": null,
      "outputs": [
        {
          "output_type": "execute_result",
          "data": {
            "text/plain": [
              "0.0033792704763825248"
            ]
          },
          "metadata": {},
          "execution_count": 23
        }
      ]
    },
    {
      "cell_type": "code",
      "source": [
        "# Decision rule: Compare p-value to alpha\n",
        "reject_null = (p_value < alpha)\n"
      ],
      "metadata": {
        "id": "M0r0nRCQeBMs"
      },
      "execution_count": null,
      "outputs": []
    },
    {
      "cell_type": "code",
      "source": [
        "reject_null"
      ],
      "metadata": {
        "colab": {
          "base_uri": "https://localhost:8080/"
        },
        "id": "FLfqKNCQs5Jm",
        "outputId": "21f4a4f6-e3b5-4395-aa04-a418fcb42249"
      },
      "execution_count": null,
      "outputs": [
        {
          "output_type": "execute_result",
          "data": {
            "text/plain": [
              "True"
            ]
          },
          "metadata": {},
          "execution_count": 25
        }
      ]
    },
    {
      "cell_type": "code",
      "source": [
        "# Print results\n",
        "print(\"One-Sample t-Test (Right-Tailed)\")\n",
        "print(f\"Null Hypothesis H0: mu = {population_mean}\")\n",
        "print(f\"Sample Mean: {sample_mean}\")\n",
        "print(f\"Sample Std Dev: {sample_std_dev}\")\n",
        "print(f\"Sample Size: {n}\")\n",
        "print(f\"T-Statistic: {t_stat:.4f}\")\n",
        "print(f\"Degrees of Freedom: {df}\")\n",
        "print(f\"p-value (left-tailed): {p_value:.6f}\")\n",
        "print(f\"Significance Level: {alpha}\")\n",
        "if reject_null:\n",
        "    print(\"Conclusion: Reject H0, the average lifespan of light bulbs is less than 1000 hours (the mean is significantly less than 1000).\")\n",
        "else:\n",
        "    print(\"Conclusion: Fail to reject H0 (no evidence the mean is less than 1000).\")"
      ],
      "metadata": {
        "colab": {
          "base_uri": "https://localhost:8080/"
        },
        "id": "oqH6Yz63tRZB",
        "outputId": "2f9a7758-3cd9-4eb5-fe17-7f6986e2c62e"
      },
      "execution_count": null,
      "outputs": [
        {
          "output_type": "stream",
          "name": "stdout",
          "text": [
            "One-Sample t-Test (Right-Tailed)\n",
            "Null Hypothesis H0: mu = 1000\n",
            "Sample Mean: 980\n",
            "Sample Std Dev: 50\n",
            "Sample Size: 50\n",
            "T-Statistic: -2.8284\n",
            "Degrees of Freedom: 49\n",
            "p-value (left-tailed): 0.003379\n",
            "Significance Level: 0.05\n",
            "Conclusion: Reject H0, the average lifespan of light bulbs is less than 1000 hours (the mean is significantly less than 1000).\n"
          ]
        }
      ]
    },
    {
      "cell_type": "code",
      "source": [],
      "metadata": {
        "id": "H0xBdoyOvSeD"
      },
      "execution_count": null,
      "outputs": []
    },
    {
      "cell_type": "markdown",
      "source": [
        "Question 4 :: A pharmaceutical company is testing a new drug for lowering blood pressure. They want to\n",
        " determine if the drug is effective in reducing blood pressure levels. State the null and alternative\n",
        " hypotheses for this study."
      ],
      "metadata": {
        "id": "7jT0MTQSvSyM"
      }
    },
    {
      "cell_type": "markdown",
      "source": [],
      "metadata": {
        "id": "HdRVyo2yvZXp"
      }
    },
    {
      "cell_type": "markdown",
      "source": [
        "Answer::\n",
        "\n",
        "*   Null Hypothesis is the new drug is not effective in reducing blood pressure levels\n",
        "*   Alternative Hypothesis is the new drug is effective in reducing blood pressure levels\n",
        "\n"
      ],
      "metadata": {
        "id": "ue_yorNDvc2Y"
      }
    },
    {
      "cell_type": "code",
      "source": [],
      "metadata": {
        "id": "obQqR2ckzmX0"
      },
      "execution_count": null,
      "outputs": []
    },
    {
      "cell_type": "markdown",
      "source": [
        "Question 5 :: A quality control manager at a factory wants to ensure that the average weight of products\n",
        " coming off the production line is 500 grams. She takes a random sample of 30 products and\n",
        " finds the mean weight to be 495 grams with a standard deviation of 10 grams. Test the\n",
        " manager's claim at a significance level of 0.01 using a left-tailed hypothesis test.\n"
      ],
      "metadata": {
        "id": "S1NdRiOMxSEG"
      }
    },
    {
      "cell_type": "markdown",
      "source": [
        "Defining Null & Alternative hypothesis:::\n",
        "\n",
        "\n",
        "*   Null Hypothesis : The average weight of products coming off the production line is >= 500 grams\n",
        "*   Alternative Hypothesi : The average weight of products comingn off the production line is < 500 grams\n",
        "\n",
        "\n"
      ],
      "metadata": {
        "id": "CeyqlA_wzsWb"
      }
    },
    {
      "cell_type": "code",
      "source": [
        "# Defining data\n",
        "sample_mean = 495\n",
        "population_mean = 500\n",
        "sample_std_dev = 10\n",
        "n = 30\n",
        "alpha = 0.01"
      ],
      "metadata": {
        "id": "wrh0GvhTxRxE"
      },
      "execution_count": null,
      "outputs": []
    },
    {
      "cell_type": "code",
      "source": [
        "# Calculate the t-stat\n",
        "t_stat = (sample_mean - population_mean) / (sample_std_dev / np.sqrt(n))"
      ],
      "metadata": {
        "id": "0mtU7M65AOQM"
      },
      "execution_count": null,
      "outputs": []
    },
    {
      "cell_type": "code",
      "source": [
        "t_stat"
      ],
      "metadata": {
        "colab": {
          "base_uri": "https://localhost:8080/"
        },
        "id": "w76AwVowAF9r",
        "outputId": "4eebae25-eee0-40a2-9d87-a50aabe4f6e8"
      },
      "execution_count": null,
      "outputs": [
        {
          "output_type": "execute_result",
          "data": {
            "text/plain": [
              "-2.7386127875258306"
            ]
          },
          "metadata": {},
          "execution_count": 30
        }
      ]
    },
    {
      "cell_type": "code",
      "source": [
        "# Degrees of Freedom\n",
        "df = n - 1"
      ],
      "metadata": {
        "id": "JzYUkszyEK56"
      },
      "execution_count": null,
      "outputs": []
    },
    {
      "cell_type": "code",
      "source": [
        "df"
      ],
      "metadata": {
        "colab": {
          "base_uri": "https://localhost:8080/"
        },
        "id": "q3aP5lJsEV-x",
        "outputId": "f20bbed2-8d23-4267-f084-7921999ffb04"
      },
      "execution_count": null,
      "outputs": [
        {
          "output_type": "execute_result",
          "data": {
            "text/plain": [
              "29"
            ]
          },
          "metadata": {},
          "execution_count": 32
        }
      ]
    },
    {
      "cell_type": "code",
      "source": [
        "# Calculate the p value (left-tailed test)\n",
        "p_value = stats.t.cdf(t_stat,df=df)"
      ],
      "metadata": {
        "id": "_dl7Tc2QYw7h"
      },
      "execution_count": null,
      "outputs": []
    },
    {
      "cell_type": "code",
      "source": [
        "p_value"
      ],
      "metadata": {
        "colab": {
          "base_uri": "https://localhost:8080/"
        },
        "id": "HSBaFsVjY2OJ",
        "outputId": "78ff8baa-9b20-4487-de43-81c2aa74f53f"
      },
      "execution_count": null,
      "outputs": [
        {
          "output_type": "execute_result",
          "data": {
            "text/plain": [
              "0.005218694749433665"
            ]
          },
          "metadata": {},
          "execution_count": 42
        }
      ]
    },
    {
      "cell_type": "code",
      "source": [
        "# Decision rule: Compare p-value to alpha\n",
        "reject_null = (p_value < alpha)"
      ],
      "metadata": {
        "id": "-LhFWg7OY8KE"
      },
      "execution_count": null,
      "outputs": []
    },
    {
      "cell_type": "code",
      "source": [
        "reject_null"
      ],
      "metadata": {
        "colab": {
          "base_uri": "https://localhost:8080/"
        },
        "id": "hnr4edvcZHSs",
        "outputId": "1d4e3aa4-481d-465c-fdea-dcdb96ecc888"
      },
      "execution_count": null,
      "outputs": [
        {
          "output_type": "execute_result",
          "data": {
            "text/plain": [
              "True"
            ]
          },
          "metadata": {},
          "execution_count": 44
        }
      ]
    },
    {
      "cell_type": "code",
      "source": [
        "# Decision\n",
        "if p_value < alpha:\n",
        "    print(\"Reject the null hypothesis: The mean weight is significantly less than 500 grams.\")\n",
        "else:\n",
        "    print(\"Fail to reject the null hypothesis: Not enough evidence to say the mean weight is less than 500 grams.\")"
      ],
      "metadata": {
        "colab": {
          "base_uri": "https://localhost:8080/"
        },
        "id": "WJuxrLxqZ2g8",
        "outputId": "9cf757a7-dcf4-4a0f-ae40-0c74e5f9203c"
      },
      "execution_count": null,
      "outputs": [
        {
          "output_type": "stream",
          "name": "stdout",
          "text": [
            "Reject the null hypothesis: The mean weight is significantly less than 500 grams.\n"
          ]
        }
      ]
    },
    {
      "cell_type": "code",
      "source": [],
      "metadata": {
        "id": "Pn993yn3Z2eo"
      },
      "execution_count": null,
      "outputs": []
    }
  ]
}